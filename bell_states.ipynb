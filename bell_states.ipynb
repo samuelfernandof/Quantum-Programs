{
 "cells": [
  {
   "cell_type": "markdown",
   "metadata": {},
   "source": [
    "Requirements Qiskit\n",
    "\n",
    "Necessário criar ambiente virtual: python3 -m venv c:\\path\\to\\virtual\\environment\n",
    "\n",
    "Tutorial atualizado: https://docs.quantum.ibm.com/guides/install-qiskit\n",
    "\n",
    "Para criar conta IBM Quantum: https://quantum.ibm.com/ \n",
    "\n",
    "Para criar conta e instância na IBM Cloud: https://cloud.ibm.com/catalog/services/quantum-computing"
   ]
  },
  {
   "cell_type": "code",
   "execution_count": null,
   "metadata": {},
   "outputs": [],
   "source": [
    "!pip install qiskit\n",
    "!pip install qiskit-ibm-runtime\n",
    "!pip install qiskit[visualization]\n",
    "\n",
    "c:\\Users\\...\\python.exe -m pip install ipykernel -U --force-reinstall\n"
   ]
  },
  {
   "cell_type": "markdown",
   "metadata": {},
   "source": [
    "Configuração da conta"
   ]
  },
  {
   "cell_type": "code",
   "execution_count": 3,
   "metadata": {},
   "outputs": [],
   "source": [
    "from qiskit_ibm_runtime import QiskitRuntimeService\n",
    " \n",
    "# Save an IBM Quantum account and set it as your default account.\n",
    "QiskitRuntimeService.save_account(\n",
    "    channel=\"ibm_quantum\",\n",
    "    token=\"e2124d274be1fc9a5fd39f085869e242667ff4b7e3d442c843f6519b54677103f3c7371bbb8c248011422d2c863c4e482bd2bcaffeffbd8ae5a1f7179f28e005\",\n",
    "    set_as_default=True,\n",
    "    # Use `overwrite=True` if you're updating your token.\n",
    "    overwrite=True,\n",
    ")\n",
    " \n",
    "# Load saved credentials\n",
    "service = QiskitRuntimeService()"
   ]
  },
  {
   "cell_type": "markdown",
   "metadata": {},
   "source": [
    "Teste job em execução"
   ]
  },
  {
   "cell_type": "code",
   "execution_count": 4,
   "metadata": {},
   "outputs": [
    {
     "name": "stdout",
     "output_type": "stream",
     "text": [
      "job id: ct63n0cqsez00089nd70\n",
      "PrimitiveResult([PubResult(data=DataBin(meas=BitArray(<shape=(), num_shots=4096, num_bits=2>)), metadata={'circuit_metadata': {}})], metadata={'version': 2})\n"
     ]
    }
   ],
   "source": [
    "from qiskit import QuantumCircuit\n",
    "from qiskit_ibm_runtime import QiskitRuntimeService, SamplerV2 as Sampler\n",
    " \n",
    "# Create empty circuit\n",
    "example_circuit = QuantumCircuit(2)\n",
    "example_circuit.measure_all()\n",
    " \n",
    "# You'll need to specify the credentials when initializing QiskitRuntimeService, if they were not previously saved.\n",
    "service = QiskitRuntimeService()\n",
    "backend = service.least_busy(operational=True, simulator=False)\n",
    " \n",
    "sampler = Sampler(backend)\n",
    "job = sampler.run([example_circuit])\n",
    "print(f\"job id: {job.job_id()}\")\n",
    "result = job.result()\n",
    "print(result)"
   ]
  },
  {
   "cell_type": "code",
   "execution_count": 28,
   "metadata": {},
   "outputs": [],
   "source": [
    "# Set up six different observables.\n",
    "from qiskit.quantum_info import SparsePauliOp\n",
    " \n",
    "observables_labels = [\"IZ\", \"IX\", \"ZI\", \"XI\", \"ZZ\", \"XX\"]\n",
    "observables = [SparsePauliOp(label) for label in observables_labels]"
   ]
  },
  {
   "cell_type": "code",
   "execution_count": 36,
   "metadata": {},
   "outputs": [
    {
     "data": {
      "image/png": "[encoded data removed]",
      "text/plain": [
       "<Figure size 757.83x200.667 with 1 Axes>"
      ]
     },
     "execution_count": 36,
     "metadata": {},
     "output_type": "execute_result"
    }
   ],
   "source": [
    "from qiskit_ibm_runtime import QiskitRuntimeService\n",
    "from qiskit import QuantumCircuit\n",
    "from qiskit.quantum_info import SparsePauliOp\n",
    "from qiskit.transpiler.preset_passmanagers import generate_preset_pass_manager\n",
    "from qiskit_ibm_runtime import EstimatorV2 as Estimator\n",
    " \n",
    "service = QiskitRuntimeService()\n",
    " \n",
    "backend = service.least_busy(simulator=False, operational=True)\n",
    " \n",
    "# Convert to an ISA circuit and layout-mapped observables.\n",
    "pm = generate_preset_pass_manager(backend=backend, optimization_level=1)\n",
    "isa_circuit = pm.run(qc)\n",
    " \n",
    "isa_circuit.draw('mpl', idle_wires=False)"
   ]
  },
  {
   "cell_type": "code",
   "execution_count": 29,
   "metadata": {},
   "outputs": [
    {
     "name": "stdout",
     "output_type": "stream",
     "text": [
      ">>> Job ID: a393e648-1bc0-46a3-aac4-a7752a967abd\n"
     ]
    }
   ],
   "source": [
    "# Construct the Estimator instance.\n",
    "from qiskit_ibm_runtime import EstimatorV2 as Estimator\n",
    " \n",
    "estimator = Estimator(mode=backend)\n",
    "estimator.options.resilience_level = 1\n",
    "estimator.options.default_shots = 5000\n",
    " \n",
    "mapped_observables = [\n",
    "    observable.apply_layout(isa_circuit.layout) for observable in observables\n",
    "]\n",
    " \n",
    "# One pub, with one circuit to run against five different observables.\n",
    "job = estimator.run([(isa_circuit, mapped_observables)])\n",
    " \n",
    "# Use the job ID to retrieve your job data later\n",
    "print(f\">>> Job ID: {job.job_id()}\")"
   ]
  },
  {
   "cell_type": "markdown",
   "metadata": {},
   "source": [
    "Estado de Bell"
   ]
  },
  {
   "cell_type": "code",
   "execution_count": 35,
   "metadata": {},
   "outputs": [
    {
     "data": {
      "image/png": "[encoded data removed]",
      "text/plain": [
       "<Figure size 287.294x200.667 with 1 Axes>"
      ]
     },
     "execution_count": 35,
     "metadata": {},
     "output_type": "execute_result"
    }
   ],
   "source": [
    "from qiskit import QuantumCircuit\n",
    "from qiskit.quantum_info import SparsePauliOp\n",
    "from qiskit.transpiler.preset_passmanagers import generate_preset_pass_manager\n",
    "from qiskit_ibm_runtime import EstimatorV2 as Estimator\n",
    " \n",
    "# Cria um circuito com 2 qubits\n",
    "qc = QuantumCircuit(2)\n",
    " \n",
    "# Add Porta Hadamard A qubit 0\n",
    "qc.h(0)\n",
    " \n",
    "# Perform a controlled-X gate on qubit 1, controlled by qubit 0\n",
    "qc.cx(0, 1)\n",
    "\n",
    "qc.draw(\"mpl\")"
   ]
  },
  {
   "cell_type": "code",
   "execution_count": 45,
   "metadata": {},
   "outputs": [
    {
     "name": "stdout",
     "output_type": "stream",
     "text": [
      "Bell State 1:\n",
      "     ┌───┐     ┌─┐   \n",
      "q_0: ┤ H ├──■──┤M├───\n",
      "     └───┘┌─┴─┐└╥┘┌─┐\n",
      "q_1: ─────┤ X ├─╫─┤M├\n",
      "          └───┘ ║ └╥┘\n",
      "c: 2/═══════════╩══╩═\n",
      "                0  1 \n",
      "Desenho do Bell State 1:\n"
     ]
    },
    {
     "data": {
      "image/png": "[encoded data removed]",
      "text/plain": [
       "<Figure size 454.517x284.278 with 1 Axes>"
      ]
     },
     "execution_count": 45,
     "metadata": {},
     "output_type": "execute_result"
    }
   ],
   "source": [
    "from qiskit import QuantumRegister, ClassicalRegister, QuantumCircuit\n",
    "from qiskit.visualization import plot_histogram\n",
    "\n",
    "# Definindo registradores quânticos e clássicos\n",
    "q = QuantumRegister(2, 'q')\n",
    "c = ClassicalRegister(2, 'c')\n",
    "\n",
    "# Função para criar o primeiro estado de Bell\n",
    "def firstBellState():\n",
    "    circuit = QuantumCircuit(q, c)\n",
    "    circuit.h(q[0])  # Porta Hadamard \n",
    "    circuit.cx(q[0], q[1])  # Porta CNOT\n",
    "    circuit.measure(q, c)  # Medição dos qubits\n",
    "    return circuit\n",
    "\n",
    "# Função para criar o segundo estado de Bell\n",
    "def secondBellState():\n",
    "    circuit = QuantumCircuit(q, c)\n",
    "    circuit.x(q[0])  # Porta Pauli-X \n",
    "    circuit.h(q[0])  # Porta Hadamard \n",
    "    circuit.cx(q[0], q[1])  # Porta CNOT\n",
    "    circuit.measure(q, c)  # Medição dos qubits\n",
    "    return circuit\n",
    "\n",
    "# Função para criar o terceiro estado de Bell\n",
    "def thirdBellState():\n",
    "    circuit = QuantumCircuit(q, c)\n",
    "    circuit.x(q[1])  # Porta Pauli-X \n",
    "    circuit.h(q[0])  # Porta Hadamard \n",
    "    circuit.cx(q[0], q[1])  # Porta CNOT\n",
    "    circuit.measure(q, c)  # Medição dos qubits\n",
    "    return circuit\n",
    "\n",
    "# Função para criar o quarto estado de Bell\n",
    "def fourthBellState():\n",
    "    circuit = QuantumCircuit(q, c)\n",
    "    circuit.x(q[1])  # Porta Pauli-X \n",
    "    circuit.h(q[0])  # Porta Hadamard \n",
    "    circuit.z(q[0])  # Porta Pauli-Z\n",
    "    circuit.z(q[1])  # Porta Pauli-Z\n",
    "    circuit.cx(q[0], q[1])  # Porta CNOT\n",
    "    circuit.measure(q, c)  # Medição dos qubits\n",
    "    return circuit\n",
    "\n",
    "# Criando e desenhando circuitos\n",
    "print(\"Bell State 1:\")\n",
    "circuit1 = firstBellState()\n",
    "print(circuit1)\n",
    "print(\"Desenho do Bell State 1:\")\n",
    "circuit1.draw(\"mpl\")\n",
    "\n",
    "\n"
   ]
  },
  {
   "cell_type": "code",
   "execution_count": 46,
   "metadata": {},
   "outputs": [
    {
     "name": "stdout",
     "output_type": "stream",
     "text": [
      "\n",
      "Bell State 2:\n",
      "     ┌───┐┌───┐     ┌─┐   \n",
      "q_0: ┤ X ├┤ H ├──■──┤M├───\n",
      "     └───┘└───┘┌─┴─┐└╥┘┌─┐\n",
      "q_1: ──────────┤ X ├─╫─┤M├\n",
      "               └───┘ ║ └╥┘\n",
      "c: 2/════════════════╩══╩═\n",
      "                     0  1 \n",
      "Desenho do Bell State 2:\n"
     ]
    },
    {
     "data": {
      "image/png": "[encoded data removed]",
      "text/plain": [
       "<Figure size 538.128x284.278 with 1 Axes>"
      ]
     },
     "execution_count": 46,
     "metadata": {},
     "output_type": "execute_result"
    }
   ],
   "source": [
    "print(\"\\nBell State 2:\")\n",
    "circuit2 = secondBellState()\n",
    "print(circuit2)\n",
    "print(\"Desenho do Bell State 2:\")\n",
    "circuit2.draw(\"mpl\")\n"
   ]
  },
  {
   "cell_type": "code",
   "execution_count": 47,
   "metadata": {},
   "outputs": [
    {
     "name": "stdout",
     "output_type": "stream",
     "text": [
      "\n",
      "Bell State 3:\n",
      "     ┌───┐     ┌─┐   \n",
      "q_0: ┤ H ├──■──┤M├───\n",
      "     ├───┤┌─┴─┐└╥┘┌─┐\n",
      "q_1: ┤ X ├┤ X ├─╫─┤M├\n",
      "     └───┘└───┘ ║ └╥┘\n",
      "c: 2/═══════════╩══╩═\n",
      "                0  1 \n",
      "Desenho do Bell State 3:\n"
     ]
    },
    {
     "data": {
      "image/png": "[encoded data removed]",
      "text/plain": [
       "<Figure size 454.517x284.278 with 1 Axes>"
      ]
     },
     "execution_count": 47,
     "metadata": {},
     "output_type": "execute_result"
    }
   ],
   "source": [
    "print(\"\\nBell State 3:\")\n",
    "circuit3 = thirdBellState()\n",
    "print(circuit3)\n",
    "print(\"Desenho do Bell State 3:\")\n",
    "circuit3.draw(\"mpl\")\n"
   ]
  },
  {
   "cell_type": "code",
   "execution_count": 48,
   "metadata": {},
   "outputs": [
    {
     "name": "stdout",
     "output_type": "stream",
     "text": [
      "\n",
      "Bell State 4:\n",
      "     ┌───┐┌───┐     ┌─┐   \n",
      "q_0: ┤ H ├┤ Z ├──■──┤M├───\n",
      "     ├───┤├───┤┌─┴─┐└╥┘┌─┐\n",
      "q_1: ┤ X ├┤ Z ├┤ X ├─╫─┤M├\n",
      "     └───┘└───┘└───┘ ║ └╥┘\n",
      "c: 2/════════════════╩══╩═\n",
      "                     0  1 \n",
      "Desenho do Bell State 4:\n"
     ]
    },
    {
     "data": {
      "image/png": "[encoded data removed]",
      "text/plain": [
       "<Figure size 538.128x284.278 with 1 Axes>"
      ]
     },
     "execution_count": 48,
     "metadata": {},
     "output_type": "execute_result"
    }
   ],
   "source": [
    "print(\"\\nBell State 4:\")\n",
    "circuit4 = fourthBellState()\n",
    "print(circuit4)\n",
    "print(\"Desenho do Bell State 4:\")\n",
    "circuit4.draw(\"mpl\")"
   ]
  }
 ],
 "metadata": {
  "kernelspec": {
   "display_name": "qiskit",
   "language": "python",
   "name": "python3"
  },
  "language_info": {
   "codemirror_mode": {
    "name": "ipython",
    "version": 3
   },
   "file_extension": ".py",
   "mimetype": "text/x-python",
   "name": "python",
   "nbconvert_exporter": "python",
   "pygments_lexer": "ipython3",
   "version": "3.11.5"
  }
 },
 "nbformat": 4,
 "nbformat_minor": 2
}
